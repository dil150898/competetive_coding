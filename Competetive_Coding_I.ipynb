{
  "nbformat": 4,
  "nbformat_minor": 0,
  "metadata": {
    "colab": {
      "provenance": [],
      "include_colab_link": true
    },
    "kernelspec": {
      "name": "python3",
      "display_name": "Python 3"
    }
  },
  "cells": [
    {
      "cell_type": "markdown",
      "metadata": {
        "id": "view-in-github",
        "colab_type": "text"
      },
      "source": [
        "<a href=\"https://colab.research.google.com/github/dil150898/competitive_coding/blob/main/Competetive_Coding_I.ipynb\" target=\"_parent\"><img src=\"https://colab.research.google.com/assets/colab-badge.svg\" alt=\"Open In Colab\"/></a>"
      ]
    },
    {
      "cell_type": "markdown",
      "metadata": {
        "id": "XA-b8BLzYrbe"
      },
      "source": [
        "\n",
        "# Time : 1 hour\n",
        "\n",
        "# Problem Statement"
      ]
    },
    {
      "cell_type": "markdown",
      "metadata": {
        "id": "soIV-F7Wcbp3"
      },
      "source": [
        "### A student is taking a cryptography class and has found anagrams to be very useful. Two strings are anagrams of each other if the first string's letters can be rearranged to form the second string. In other words, both strings must contain the same exact letters in the same exact frequency. For example, bacdc and dcbac are anagrams, but bacdc and dcbad are not.\n",
        "\n",
        "### The student decides on an encryption scheme that involves two large strings. The encryption is dependent on the minimum number of character deletions required to make the two strings anagrams. You need to determine this number.\n",
        "\n",
        "### Given two strings, $a$ and $b$, that may or may not be of the same length, determine the minimum number of character deletions required to make $a$ and $b$ anagrams. Any characters can be deleted from either of the strings. The strings $a$ and $b$ consist of lowercase English alphabets."
      ]
    },
    {
      "cell_type": "markdown",
      "metadata": {
        "id": "TS0zgz0PcfYz"
      },
      "source": [
        "**Example**\n",
        "\n",
        "<code>a = 'cde'</code>\n",
        "\n",
        "<code>b = 'dcf' </code>"
      ]
    },
    {
      "cell_type": "markdown",
      "metadata": {
        "id": "kxZ3mdXsckZm"
      },
      "source": [
        "### Delete $e$ from $a$ and $f$ from $b$ so that the remaining strings are $cd$ and $dc$ which are anagrams. This takes 2 character deletions."
      ]
    },
    {
      "cell_type": "markdown",
      "metadata": {
        "id": "1QlkSP3KcozS"
      },
      "source": [
        "## **Function Description**\n",
        "\n",
        "### Create a <code>makeAnagram</code> function below.\n",
        "\n",
        "### **Inputs:**\n",
        "\n",
        "### string a: a string\n",
        "\n",
        "### string b: another string\n",
        "\n",
        "### **Output:**\n",
        "\n",
        "### int: the minimum total characters that must be deleted"
      ]
    },
    {
      "cell_type": "markdown",
      "metadata": {
        "id": "-woYEa44Z-Cf"
      },
      "source": [
        "# Solution"
      ]
    },
    {
      "cell_type": "code",
      "metadata": {
        "id": "sJ6O2MtIZ9dP",
        "outputId": "41fa1351-1baf-49de-b30b-63d66660c1a2",
        "colab": {
          "base_uri": "https://localhost:8080/"
        }
      },
      "source": [
        "a = 'cde'\n",
        "b = 'dcf'\n",
        "\n",
        "\n",
        "def makeAnagram(a, b):\n",
        "    # Creating dictionaries to store character frequencies\n",
        "    freq_a = {}\n",
        "    freq_b = {}\n",
        "\n",
        "    # Counting character frequencies of string a\n",
        "    for char in a:\n",
        "        freq_a[char] = freq_a.get(char, 0) + 1\n",
        "\n",
        "    # Counting character frequencies of string b\n",
        "    for char in b:\n",
        "        freq_b[char] = freq_b.get(char, 0) + 1\n",
        "\n",
        "    # Calculating the minimum number of deletions\n",
        "    deletions = 0\n",
        "    for char, count in freq_a.items():\n",
        "        deletions += abs(count - freq_b.get(char, 0))\n",
        "\n",
        "\n",
        "    return deletions\n",
        "\n",
        "\n",
        "output = makeAnagram(a, b)\n",
        "print(output)\n"
      ],
      "execution_count": 1,
      "outputs": [
        {
          "output_type": "stream",
          "name": "stdout",
          "text": [
            "1\n"
          ]
        }
      ]
    },
    {
      "cell_type": "code",
      "metadata": {
        "id": "COgSp7CXYczM",
        "colab": {
          "base_uri": "https://localhost:8080/"
        },
        "outputId": "992f9428-97ef-4fee-922e-1a394bd9fabc"
      },
      "source": [
        "print(makeAnagram('asdf', 'jklh'))"
      ],
      "execution_count": 4,
      "outputs": [
        {
          "output_type": "stream",
          "name": "stdout",
          "text": [
            "4\n"
          ]
        }
      ]
    },
    {
      "cell_type": "code",
      "source": [
        "def anagram(a , b):\n",
        "  #make 2 variable for arrgument\n",
        "  str1 = a\n",
        "  str2 = b\n",
        "\n",
        "  #make a variable to multiply arrey\n",
        "  char = 26\n",
        "\n",
        "  #make arrey to store test count\n",
        "  count1 = [0]*char\n",
        "  count2 = [0]*char\n",
        "\n",
        "  #write a function to extract text from str1\n",
        "\n",
        "  i = 0\n",
        "  while i < len(str1):\n",
        "    count1[ord(str1[i]) - ord('a')] +=1\n",
        "    i += 1\n",
        "\n",
        "  # write another function to extract text from str2\n",
        "  i = 0\n",
        "  while i < len(str2):\n",
        "    count2[ord(str2[i]) - ord('a')] += 1\n",
        "    i +=1\n",
        "\n",
        "  #  write a function to count text to delete\n",
        "  result = 0\n",
        "  for v in range(26):\n",
        "    result += abs(count1[v] - count2[v])\n",
        "\n",
        "  return result\n",
        "\n"
      ],
      "metadata": {
        "id": "IW5LuDVAglaF"
      },
      "execution_count": 2,
      "outputs": []
    },
    {
      "cell_type": "code",
      "source": [
        "anagram('abc' , 'abfdef')"
      ],
      "metadata": {
        "colab": {
          "base_uri": "https://localhost:8080/"
        },
        "id": "YhxwnlZ4zIjE",
        "outputId": "72380398-1aa0-4106-a848-786eaecd3dfd"
      },
      "execution_count": 3,
      "outputs": [
        {
          "output_type": "execute_result",
          "data": {
            "text/plain": [
              "5"
            ]
          },
          "metadata": {},
          "execution_count": 3
        }
      ]
    },
    {
      "cell_type": "code",
      "source": [
        "def anagram2(a , b):\n",
        "  string1 = a\n",
        "  string2 = b\n",
        "\n",
        "  char = 26\n",
        "\n",
        "  counting1 = [0]*char\n",
        "  counting2 = [0]*char\n",
        "\n",
        "  i = 0\n",
        "  while i < len(string1):\n",
        "    counting1[ord(string1[i]) - ord('a')] += 1\n",
        "    i +=1\n",
        "\n",
        "  i = 0\n",
        "  while i < len(string2):\n",
        "    counting2[ord(string2[i]) - ord('a')] +=1\n",
        "    i +=1\n",
        "  result = \"\"\n",
        "  for i in range(char):\n",
        "    if counting1[i] != counting2[i]:\n",
        "      result += chr(i + ord('a'))\n",
        "\n",
        "\n",
        "  return result\n",
        "\n"
      ],
      "metadata": {
        "id": "G3ugsykOzacF"
      },
      "execution_count": 7,
      "outputs": []
    },
    {
      "cell_type": "code",
      "source": [
        "anagram2('abzde' , 'abdce')"
      ],
      "metadata": {
        "colab": {
          "base_uri": "https://localhost:8080/",
          "height": 36
        },
        "id": "FkJXjDN40y_y",
        "outputId": "bda4e93e-111b-4290-9a5e-cbb7cd425548"
      },
      "execution_count": 8,
      "outputs": [
        {
          "output_type": "execute_result",
          "data": {
            "text/plain": [
              "'cz'"
            ],
            "application/vnd.google.colaboratory.intrinsic+json": {
              "type": "string"
            }
          },
          "metadata": {},
          "execution_count": 8
        }
      ]
    },
    {
      "cell_type": "code",
      "source": [
        "def anagram3 (a , b):\n",
        "  char = 26\n",
        "  cnt = [0] * char\n",
        "  cnt2 = [0]*char\n",
        "\n",
        "  for word in a :\n",
        "    cnt[ord(word) - ord('a')] +=1\n",
        "\n",
        "  for word2 in b:\n",
        "    cnt2[ord(word2) - ord('a')] += 1\n",
        "\n",
        "  rslt = \"\"\n",
        "  for each_char in range(0,char):\n",
        "    if (cnt[each_char] != 0) & (cnt2[each_char] != 0) :\n",
        "      if cnt[each_char] == cnt2[each_char]:\n",
        "        rslt += chr(each_char + ord('a')) * cnt[each_char]\n",
        "      elif cnt[each_char] > cnt2[each_char]:\n",
        "        rslt += chr(each_char + ord('a')) * cnt2[each_char]\n",
        "      else:\n",
        "        rslt += chr(each_char + ord('a')) * cnt[each_char]\n",
        "      #rslt += chr(each_char + ord('a'))\n",
        "\n",
        "  return rslt"
      ],
      "metadata": {
        "id": "8Y51-bPe4IMR"
      },
      "execution_count": 38,
      "outputs": []
    },
    {
      "cell_type": "code",
      "source": [
        "anagram3('cbadaa','fbaea')"
      ],
      "metadata": {
        "id": "FMzk_LqV5dEZ",
        "colab": {
          "base_uri": "https://localhost:8080/",
          "height": 36
        },
        "outputId": "df2e5eb7-c98b-4f64-cd39-30280ac05d30"
      },
      "execution_count": 39,
      "outputs": [
        {
          "output_type": "execute_result",
          "data": {
            "text/plain": [
              "'aab'"
            ],
            "application/vnd.google.colaboratory.intrinsic+json": {
              "type": "string"
            }
          },
          "metadata": {},
          "execution_count": 39
        }
      ]
    },
    {
      "cell_type": "code",
      "source": [
        "anagram3(\"mwerowerm\" , \"mxcvoxcvm\")"
      ],
      "metadata": {
        "colab": {
          "base_uri": "https://localhost:8080/",
          "height": 36
        },
        "id": "we-zQ4ycYKkE",
        "outputId": "e20544f4-077e-41cd-ed45-cb9340f2cc9e"
      },
      "execution_count": 40,
      "outputs": [
        {
          "output_type": "execute_result",
          "data": {
            "text/plain": [
              "'mmo'"
            ],
            "application/vnd.google.colaboratory.intrinsic+json": {
              "type": "string"
            }
          },
          "metadata": {},
          "execution_count": 40
        }
      ]
    },
    {
      "cell_type": "code",
      "source": [],
      "metadata": {
        "colab": {
          "base_uri": "https://localhost:8080/"
        },
        "id": "EFB5iTsLa4VE",
        "outputId": "65bdc11f-56c3-473b-e0c2-c2bb772b5392"
      },
      "execution_count": 32,
      "outputs": [
        {
          "output_type": "stream",
          "name": "stdout",
          "text": [
            "c\n"
          ]
        }
      ]
    },
    {
      "cell_type": "code",
      "source": [],
      "metadata": {
        "id": "IYfCE4zXdyM5"
      },
      "execution_count": null,
      "outputs": []
    }
  ]
}