{
  "nbformat": 4,
  "nbformat_minor": 0,
  "metadata": {
    "colab": {
      "provenance": [],
      "include_colab_link": true
    },
    "kernelspec": {
      "name": "python3",
      "display_name": "Python 3"
    }
  },
  "cells": [
    {
      "cell_type": "markdown",
      "metadata": {
        "id": "view-in-github",
        "colab_type": "text"
      },
      "source": [
        "<a href=\"https://colab.research.google.com/github/dil150898/competitive_coding/blob/main/Competetive_Coding_I.ipynb\" target=\"_parent\"><img src=\"https://colab.research.google.com/assets/colab-badge.svg\" alt=\"Open In Colab\"/></a>"
      ]
    },
    {
      "cell_type": "markdown",
      "metadata": {
        "id": "XA-b8BLzYrbe"
      },
      "source": [
        "\n",
        "# Time : 1 hour\n",
        "\n",
        "# Problem Statement"
      ]
    },
    {
      "cell_type": "markdown",
      "metadata": {
        "id": "soIV-F7Wcbp3"
      },
      "source": [
        "### A student is taking a cryptography class and has found anagrams to be very useful. Two strings are anagrams of each other if the first string's letters can be rearranged to form the second string. In other words, both strings must contain the same exact letters in the same exact frequency. For example, bacdc and dcbac are anagrams, but bacdc and dcbad are not.\n",
        "\n",
        "### The student decides on an encryption scheme that involves two large strings. The encryption is dependent on the minimum number of character deletions required to make the two strings anagrams. You need to determine this number.\n",
        "\n",
        "### Given two strings, $a$ and $b$, that may or may not be of the same length, determine the minimum number of character deletions required to make $a$ and $b$ anagrams. Any characters can be deleted from either of the strings. The strings $a$ and $b$ consist of lowercase English alphabets."
      ]
    },
    {
      "cell_type": "markdown",
      "metadata": {
        "id": "TS0zgz0PcfYz"
      },
      "source": [
        "**Example**\n",
        "\n",
        "<code>a = 'cde'</code>\n",
        "\n",
        "<code>b = 'dcf' </code>"
      ]
    },
    {
      "cell_type": "markdown",
      "metadata": {
        "id": "kxZ3mdXsckZm"
      },
      "source": [
        "### Delete $e$ from $a$ and $f$ from $b$ so that the remaining strings are $cd$ and $dc$ which are anagrams. This takes 2 character deletions."
      ]
    },
    {
      "cell_type": "markdown",
      "metadata": {
        "id": "1QlkSP3KcozS"
      },
      "source": [
        "## **Function Description**\n",
        "\n",
        "### Create a <code>makeAnagram</code> function below.\n",
        "\n",
        "### **Inputs:**\n",
        "\n",
        "### string a: a string\n",
        "\n",
        "### string b: another string\n",
        "\n",
        "### **Output:**\n",
        "\n",
        "### int: the minimum total characters that must be deleted"
      ]
    },
    {
      "cell_type": "markdown",
      "metadata": {
        "id": "-woYEa44Z-Cf"
      },
      "source": [
        "# Solution"
      ]
    },
    {
      "cell_type": "code",
      "metadata": {
        "id": "sJ6O2MtIZ9dP",
        "outputId": "8c155045-bf58-4185-9719-a365911cd8fa",
        "colab": {
          "base_uri": "https://localhost:8080/"
        }
      },
      "source": [
        "a = 'cde'\n",
        "b = 'dcf'\n",
        "\n",
        "\n",
        "def makeAnagram(a, b):\n",
        "    # Creating dictionaries to store character frequencies\n",
        "    freq_a = {}\n",
        "    freq_b = {}\n",
        "\n",
        "    # Counting character frequencies of string a\n",
        "    for char in a:\n",
        "        freq_a[char] = freq_a.get(char, 0) + 1\n",
        "\n",
        "    # Counting character frequencies of string b\n",
        "    for char in b:\n",
        "        freq_b[char] = freq_b.get(char, 0) + 1\n",
        "\n",
        "    # Calculating the minimum number of deletions\n",
        "    deletions = 0\n",
        "    for char, count in freq_a.items():\n",
        "        deletions += abs(count - freq_b.get(char, 0))\n",
        "\n",
        "\n",
        "    return deletions\n",
        "\n",
        "\n",
        "output = makeAnagram(a, b)\n",
        "print(output)\n"
      ],
      "execution_count": null,
      "outputs": [
        {
          "output_type": "stream",
          "name": "stdout",
          "text": [
            "1\n"
          ]
        }
      ]
    },
    {
      "cell_type": "code",
      "metadata": {
        "id": "COgSp7CXYczM",
        "colab": {
          "base_uri": "https://localhost:8080/"
        },
        "outputId": "e3aa2780-903d-468a-fc23-22279f355232"
      },
      "source": [
        "print(makeAnagram('asdf', 'jklh'))"
      ],
      "execution_count": null,
      "outputs": [
        {
          "output_type": "stream",
          "name": "stdout",
          "text": [
            "4\n"
          ]
        }
      ]
    },
    {
      "cell_type": "code",
      "source": [
        "def anagram(a , b):\n",
        "  #make 2 variable for arrgument\n",
        "  str1 = a\n",
        "  str2 = b\n",
        "\n",
        "  #make a variable to multiply arrey\n",
        "  char = 26\n",
        "\n",
        "  #make arrey to store test count\n",
        "  count1 = [0]*char\n",
        "  count2 = [0]*char\n",
        "\n",
        "  #write a function to extract text from str1\n",
        "\n",
        "  i = 0\n",
        "  while i < len(str1):\n",
        "    count1[ord(str1[i]) - ord('a')] +=1\n",
        "    i += 1\n",
        "\n",
        "  # write another function to extract text from str2\n",
        "  i = 0\n",
        "  while i < len(str2):\n",
        "    count2[ord(str2[i]) - ord('a')] += 1\n",
        "    i +=1\n",
        "\n",
        "  #  write a function to count text to delete\n",
        "  result = 0\n",
        "  for v in range(26):\n",
        "    result += abs(count1[v] - count2[v])\n",
        "\n",
        "  return result\n",
        "\n"
      ],
      "metadata": {
        "id": "IW5LuDVAglaF"
      },
      "execution_count": null,
      "outputs": []
    },
    {
      "cell_type": "code",
      "source": [
        "anagram('abc' , 'abcdef')"
      ],
      "metadata": {
        "colab": {
          "base_uri": "https://localhost:8080/"
        },
        "id": "YhxwnlZ4zIjE",
        "outputId": "aaa80f9a-3e01-4ca2-80b4-6f19642076fd"
      },
      "execution_count": null,
      "outputs": [
        {
          "output_type": "execute_result",
          "data": {
            "text/plain": [
              "3"
            ]
          },
          "metadata": {},
          "execution_count": 4
        }
      ]
    },
    {
      "cell_type": "code",
      "source": [
        "def anagram2(a , b):\n",
        "  string1 = a\n",
        "  string2 = b\n",
        "\n",
        "  char = 26\n",
        "\n",
        "  counting1 = [0]*char\n",
        "  counting2 = [0]*char\n",
        "\n",
        "  i = 0\n",
        "  while i < len(string1):\n",
        "    counting1[ord(string1[i]) - ord('a')] += 1\n",
        "    i +=1\n",
        "\n",
        "  i = 0\n",
        "  while i < len(string2):\n",
        "    counting2[ord(string2[i]) - ord('a')] +=1\n",
        "    i +=1\n",
        "  result = \"\"\n",
        " # for i in range(char):\n",
        "  #  if counting1[i] != counting2[i]:\n",
        "  #    result += chr(i + ord('a'))\n",
        "  for v in range(26):\n",
        "    if abs(counting1[v] - counting2[v]) == 1:\n",
        "      result += string2[v]\n",
        "\n",
        "\n",
        "  return result\n",
        "\n"
      ],
      "metadata": {
        "id": "G3ugsykOzacF"
      },
      "execution_count": null,
      "outputs": []
    },
    {
      "cell_type": "code",
      "source": [
        "anagram2('abzde' , 'abdce')"
      ],
      "metadata": {
        "colab": {
          "base_uri": "https://localhost:8080/",
          "height": 361
        },
        "id": "FkJXjDN40y_y",
        "outputId": "ab2d63e9-4c67-49ee-df2d-3c0675eb9e33"
      },
      "execution_count": null,
      "outputs": [
        {
          "output_type": "error",
          "ename": "IndexError",
          "evalue": "string index out of range",
          "traceback": [
            "\u001b[0;31m---------------------------------------------------------------------------\u001b[0m",
            "\u001b[0;31mIndexError\u001b[0m                                Traceback (most recent call last)",
            "\u001b[0;32m<ipython-input-9-a5622d4723ff>\u001b[0m in \u001b[0;36m<cell line: 1>\u001b[0;34m()\u001b[0m\n\u001b[0;32m----> 1\u001b[0;31m \u001b[0managram2\u001b[0m\u001b[0;34m(\u001b[0m\u001b[0;34m'abzde'\u001b[0m \u001b[0;34m,\u001b[0m \u001b[0;34m'abdce'\u001b[0m\u001b[0;34m)\u001b[0m\u001b[0;34m\u001b[0m\u001b[0;34m\u001b[0m\u001b[0m\n\u001b[0m",
            "\u001b[0;32m<ipython-input-7-6fb774d6f270>\u001b[0m in \u001b[0;36managram2\u001b[0;34m(a, b)\u001b[0m\n\u001b[1;32m     23\u001b[0m   \u001b[0;32mfor\u001b[0m \u001b[0mv\u001b[0m \u001b[0;32min\u001b[0m \u001b[0mrange\u001b[0m\u001b[0;34m(\u001b[0m\u001b[0;36m26\u001b[0m\u001b[0;34m)\u001b[0m\u001b[0;34m:\u001b[0m\u001b[0;34m\u001b[0m\u001b[0;34m\u001b[0m\u001b[0m\n\u001b[1;32m     24\u001b[0m     \u001b[0;32mif\u001b[0m \u001b[0mabs\u001b[0m\u001b[0;34m(\u001b[0m\u001b[0mcounting1\u001b[0m\u001b[0;34m[\u001b[0m\u001b[0mv\u001b[0m\u001b[0;34m]\u001b[0m \u001b[0;34m-\u001b[0m \u001b[0mcounting2\u001b[0m\u001b[0;34m[\u001b[0m\u001b[0mv\u001b[0m\u001b[0;34m]\u001b[0m\u001b[0;34m)\u001b[0m \u001b[0;34m==\u001b[0m \u001b[0;36m1\u001b[0m\u001b[0;34m:\u001b[0m\u001b[0;34m\u001b[0m\u001b[0;34m\u001b[0m\u001b[0m\n\u001b[0;32m---> 25\u001b[0;31m       \u001b[0mresult\u001b[0m \u001b[0;34m+=\u001b[0m \u001b[0mstring2\u001b[0m\u001b[0;34m[\u001b[0m\u001b[0mv\u001b[0m\u001b[0;34m]\u001b[0m\u001b[0;34m\u001b[0m\u001b[0;34m\u001b[0m\u001b[0m\n\u001b[0m\u001b[1;32m     26\u001b[0m \u001b[0;34m\u001b[0m\u001b[0m\n\u001b[1;32m     27\u001b[0m \u001b[0;34m\u001b[0m\u001b[0m\n",
            "\u001b[0;31mIndexError\u001b[0m: string index out of range"
          ]
        }
      ]
    },
    {
      "cell_type": "code",
      "source": [
        "x = ['a','b','c','d','e']\n",
        "y = ['e','d','c','b','a']\n",
        "z = \"\"\n",
        "for v in range(5):\n",
        "  if abs(ord(x[v]) - ord(y[v])) == 2:\n",
        "    z += y[v]\n",
        "  print(z)\n"
      ],
      "metadata": {
        "colab": {
          "base_uri": "https://localhost:8080/"
        },
        "id": "8Y51-bPe4IMR",
        "outputId": "30e69e87-9abf-4643-afb2-3acf3df09805"
      },
      "execution_count": null,
      "outputs": [
        {
          "output_type": "stream",
          "name": "stdout",
          "text": [
            "\n",
            "d\n",
            "d\n",
            "db\n",
            "db\n"
          ]
        }
      ]
    },
    {
      "cell_type": "code",
      "source": [],
      "metadata": {
        "id": "FMzk_LqV5dEZ"
      },
      "execution_count": null,
      "outputs": []
    }
  ]
}